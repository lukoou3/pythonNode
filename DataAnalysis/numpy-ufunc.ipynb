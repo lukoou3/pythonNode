{
 "cells": [
  {
   "cell_type": "markdown",
   "metadata": {},
   "source": [
    "到目前为止，我们讨论了NumPy 的一些基础知识。在接下来的几小节中，我们将深入了\n",
    "解NumPy 在Python 数据科学世界中如此重要的原因。明确点说，NumPy 提供了一个简单\n",
    "灵活的接口来优化数据数组的计算。\n",
    "\n",
    "NumPy 数组的计算有时非常快，有时也非常慢。使NumPy 变快的关键是利用向量化操作，\n",
    "通常在NumPy 的通用函数（ufunc）中实现。本节将介绍NumPy 通用函数的重要性——它\n",
    "可以提高数组元素的重复计算的效率；然后，将会介绍很多NumPy 包中常用且有用的数\n",
    "学通用函数。"
   ]
  },
  {
   "cell_type": "markdown",
   "metadata": {},
   "source": [
    "Universal Functions: Fast Element-Wise Array Functions（通用函数：快速点对点数组函数）\n",
    "\n",
    "universal function, 或 ufunc, 是用来在ndarray中实现element-wise操作的。"
   ]
  },
  {
   "cell_type": "code",
   "execution_count": 1,
   "metadata": {},
   "outputs": [],
   "source": [
    "import numpy as np"
   ]
  },
  {
   "cell_type": "markdown",
   "metadata": {},
   "source": [
    "## 通用函数介绍"
   ]
  },
  {
   "cell_type": "markdown",
   "metadata": {},
   "source": [
    "NumPy 为很多类型的操作提供了非常方便的、静态类型的、可编译程序的接口，也被称作\n",
    "向量操作。你可以通过简单地对数组执行操作来实现，这里对数组的操作将会被用于数组\n",
    "中的每一个元素。这种向量方法被用于将循环推送至NumPy 之下的编译层，这样会取得\n",
    "更快的执行效率。"
   ]
  },
  {
   "cell_type": "code",
   "execution_count": 2,
   "metadata": {},
   "outputs": [
    {
     "name": "stdout",
     "output_type": "stream",
     "text": [
      "Wall time: 320 ms\n"
     ]
    },
    {
     "data": {
      "text/plain": [
       "array([0.01123596, 0.01492537, 0.01515152, ..., 0.5       , 0.01086957,\n",
       "       0.01923077])"
      ]
     },
     "execution_count": 2,
     "metadata": {},
     "output_type": "execute_result"
    }
   ],
   "source": [
    "big_array = np.random.randint(1, 100, size=10**8)\n",
    "%time (1.0 / big_array)"
   ]
  },
  {
   "cell_type": "markdown",
   "metadata": {},
   "source": [
    "NumPy 中的向量操作是通过通用函数实现的。通用函数的主要目的是对NumPy 数组中的\n",
    "值执行更快的重复操作。它非常灵活，前面我们看过了标量和数组的运算，但是也可以对\n",
    "两个数组进行运算："
   ]
  },
  {
   "cell_type": "code",
   "execution_count": 3,
   "metadata": {},
   "outputs": [
    {
     "data": {
      "text/plain": [
       "array([0.        , 0.5       , 0.66666667, 0.75      , 0.8       ])"
      ]
     },
     "execution_count": 3,
     "metadata": {},
     "output_type": "execute_result"
    }
   ],
   "source": [
    "np.arange(5) / np.arange(1, 6)"
   ]
  },
  {
   "cell_type": "markdown",
   "metadata": {},
   "source": [
    "通用函数并不仅限于一维数组的运算，它们也可以进行多维数组的运算："
   ]
  },
  {
   "cell_type": "code",
   "execution_count": 4,
   "metadata": {},
   "outputs": [
    {
     "data": {
      "text/plain": [
       "array([[  1,   2,   4],\n",
       "       [  8,  16,  32],\n",
       "       [ 64, 128, 256]], dtype=int32)"
      ]
     },
     "execution_count": 4,
     "metadata": {},
     "output_type": "execute_result"
    }
   ],
   "source": [
    "x = np.arange(9).reshape((3, 3))\n",
    "2 ** x"
   ]
  },
  {
   "cell_type": "markdown",
   "metadata": {},
   "source": [
    "通过通用函数用向量的方式进行计算几乎总比用Python 循环实现的计算更加有效，尤其是\n",
    "当数组很大时。只要你看到Python 脚本中有这样的循环，就应该考虑能否用向量方式替换\n",
    "这个循环。"
   ]
  },
  {
   "cell_type": "markdown",
   "metadata": {},
   "source": [
    "通用函数有两种存在形式：一元通用函数（unary ufunc）对单个输入操作，二元通用函数\n",
    "（binary ufunc）对两个输入操作。"
   ]
  },
  {
   "cell_type": "markdown",
   "metadata": {},
   "source": [
    "\n",
    "一元函数 I\n",
    "\n",
    "| 类型                    | 说明                                                               |\n",
    "| ----------------------- | ------------------------------------------------------------------ |\n",
    "| abs, fabs               | 计算整数、浮点数或复数的绝对值。对于非复数值，可以使用更快的fabs。 |\n",
    "| sqrt                    | 计算各元素的平方根。相当于arr ** 0.5                               |\n",
    "| sqare                   | 计算各元素的平方。相当于arr ** 2                                   |\n",
    "| exp                     | 计算各元素的e^x                                                    |\n",
    "| log, log10, log2, log1p | 分别为自然对数、底数为10的log、底数为2的log和log(1 + x)。          |\n",
    "| sign                    | 计算各元素的正负号：1（正数）、0（零）、－1（负数）。              |\n",
    "| ceil                    | 计算各元素的ceiling值，即大于等于该值的最小整数。                  |\n",
    "| floor                   | 计算各元素的floor值，即小于等于该值的最小整数。                    |"
   ]
  },
  {
   "cell_type": "markdown",
   "metadata": {},
   "source": [
    "一元函数 II\n",
    "\n",
    "| 类型                                             | 说明                                                                               |\n",
    "| ------------------------------------------------ | ---------------------------------------------------------------------------------- |\n",
    "| rint                                             | 将各元素值四舍五入到最接近的整数，保留dtype。                                      |\n",
    "| modf                                             | 将数组的小数部分与整数部分以两个独立数组的形式返还。                               |\n",
    "| isnan                                            | 返回一个表示“哪些值是NaN（这不是一个数字）”的布尔型数组                            |\n",
    "| isfinite, isinf                                  | 分别返回一个表示“哪些元素是有限的（非inf，非NaN）”或“哪些元素是无穷的”的布尔型数组 |\n",
    "| cos, cosh, sin, sinh, tan, tanh                  | 普通型或双曲型三角函数                                                             |\n",
    "| arccos, arccosh, arcsin, arcsinh,arctan, arctanh | 反三角函数                                                                         |\n",
    "| logical_not                                      | 计算各元素not x的真值。相当于-arr。                                                |"
   ]
  },
  {
   "cell_type": "markdown",
   "metadata": {},
   "source": [
    "二元函数 I\n",
    "\n",
    "| 类型                 | 说明                                                          |\n",
    "| -------------------- | ------------------------------------------------------------- |\n",
    "| add                  | 将数组中对应的元素相加                                        |\n",
    "| subtract             | 从第一个数组中减去第二个数组中的元素                          |\n",
    "| multiply             | 数组元素相乘                                                  |\n",
    "| divide, floor_divide | 除法或向下取整除法                                            |\n",
    "| power                | 对第一个数组中的元素A和第二个数组中对应位置的元素B，计算A^B。 |\n",
    "| maximum, fmax        | 元素级的最大值计算。fmax将忽略NaN。                           |\n",
    "| minimum, fmin        | 元素级的最小值计算。fmin将忽略NaN。                           |\n",
    "| mod                  | 元素级的求模计算                                              |"
   ]
  },
  {
   "cell_type": "markdown",
   "metadata": {},
   "source": [
    "二元函数 II\n",
    "\n",
    "| 类型                                                     | 说明                                           |\n",
    "| -------------------------------------------------------- | ---------------------------------------------- |\n",
    "| copysign                                                 | 将第二个数组中的符号复制给第一个数组中的值     |\n",
    "| greater, greater_equal, less,less_equal,equal, not_equal | 执行元素级的比较，最终产生布尔型数组。         |\n",
    "| logical_and, logical_or,logical_xor                      | 执行元素级的真值逻辑运算，最终产生布尔型数组。 |"
   ]
  },
  {
   "cell_type": "markdown",
   "metadata": {},
   "source": [
    "## 探索NumPy的通用函数"
   ]
  },
  {
   "cell_type": "markdown",
   "metadata": {},
   "source": [
    "通用函数有两种存在形式：一元通用函数（unary ufunc）对单个输入操作，二元通用函数\n",
    "（binary ufunc）对两个输入操作。我们将在以下的介绍中看到这两种类型的例子。"
   ]
  },
  {
   "cell_type": "markdown",
   "metadata": {},
   "source": [
    "#### 1. 数组的运算"
   ]
  },
  {
   "cell_type": "markdown",
   "metadata": {},
   "source": [
    "NumPy 通用函数的使用方式非常自然，因为它用到了Python 原生的算术运算符，标准的\n",
    "加、减、乘、除都可以使用："
   ]
  },
  {
   "cell_type": "code",
   "execution_count": 5,
   "metadata": {},
   "outputs": [
    {
     "name": "stdout",
     "output_type": "stream",
     "text": [
      "x = [0 1 2 3]\n",
      "x + 5 = [5 6 7 8]\n",
      "x - 5 = [-5 -4 -3 -2]\n",
      "x * 2 = [0 2 4 6]\n",
      "x / 2 = [0.  0.5 1.  1.5]\n",
      "x // 2 = [0 0 1 1]\n"
     ]
    }
   ],
   "source": [
    "x = np.arange(4)\n",
    "print(\"x =\", x)\n",
    "print(\"x + 5 =\", x + 5)\n",
    "print(\"x - 5 =\", x - 5)\n",
    "print(\"x * 2 =\", x * 2)\n",
    "print(\"x / 2 =\", x / 2)\n",
    "print(\"x // 2 =\", x // 2) #地板除法运算"
   ]
  },
  {
   "cell_type": "markdown",
   "metadata": {},
   "source": [
    "还有逻辑非、** 表示的指数运算符和% 表示的模运算符的一元通用函数："
   ]
  },
  {
   "cell_type": "code",
   "execution_count": 6,
   "metadata": {},
   "outputs": [
    {
     "name": "stdout",
     "output_type": "stream",
     "text": [
      "-x =  [ 0 -1 -2 -3]\n",
      "x ** 2 =  [0 1 4 9]\n",
      "x % 2 =  [0 1 0 1]\n"
     ]
    }
   ],
   "source": [
    "print(\"-x = \", -x)\n",
    "print(\"x ** 2 = \", x ** 2)\n",
    "print(\"x % 2 = \", x % 2)"
   ]
  },
  {
   "cell_type": "markdown",
   "metadata": {},
   "source": [
    "你可以任意将这些算术运算符组合使用。当然，你得考虑这些运算符的优先级："
   ]
  },
  {
   "cell_type": "code",
   "execution_count": 7,
   "metadata": {},
   "outputs": [
    {
     "data": {
      "text/plain": [
       "array([-1.  , -2.25, -4.  , -6.25])"
      ]
     },
     "execution_count": 7,
     "metadata": {},
     "output_type": "execute_result"
    }
   ],
   "source": [
    "-(0.5*x + 1) ** 2"
   ]
  },
  {
   "cell_type": "markdown",
   "metadata": {},
   "source": [
    "所有这些算术运算符都是NumPy 内置函数的简单封装器，例如+ 运算符就是一个add 函\n",
    "数的封装器："
   ]
  },
  {
   "cell_type": "code",
   "execution_count": 8,
   "metadata": {},
   "outputs": [
    {
     "data": {
      "text/plain": [
       "array([2, 3, 4, 5])"
      ]
     },
     "execution_count": 8,
     "metadata": {},
     "output_type": "execute_result"
    }
   ],
   "source": [
    "np.add(x, 2)"
   ]
  },
  {
   "cell_type": "markdown",
   "metadata": {},
   "source": [
    "NumPy实现的算术运算符\n",
    "\n",
    "| 运算符 | 对应的通用函数  | 描述                                         |                           |\n",
    "| ------ | --------------- | -------------------------------------------- | ------------------------- |\n",
    "| +      | np.add          | 加法运算（即1 + 1 = 2）                      |                           |\n",
    "| -      | np.subtract     | 减法运算（即3 - 2 = 1）                      |                           |\n",
    "| -      | np.negative     | 负数运算（ 即 -2）                           |                           |\n",
    "| *      | np.multiply     |                                              | 乘法运算（ 即 2 * 3 = 6） |\n",
    "| /      | np.divide       | 除法运算（ 即 3 / 2 = 1.5）                  |                           |\n",
    "| //     | np.floor_divide | 地板除法运算（floor division，即3 // 2 = 1） |                           |\n",
    "| **     | np.power        | 指数运算（ 即 2 ** 3 = 8）                   |                           |\n",
    "| %      | np.mod          | 模 / 余数（ 即9 % 4 = 1）                    |                           |"
   ]
  },
  {
   "cell_type": "markdown",
   "metadata": {},
   "source": [
    "另外，NumPy 中还有布尔/ 位运算符，这些运算符将在以后介绍。"
   ]
  },
  {
   "cell_type": "markdown",
   "metadata": {},
   "source": [
    "#### 2. 绝对值"
   ]
  },
  {
   "cell_type": "markdown",
   "metadata": {},
   "source": [
    "正如NumPy 能理解Python 内置的运算操作，NumPy 也可以理解Python 内置的绝对值\n",
    "函数："
   ]
  },
  {
   "cell_type": "code",
   "execution_count": 9,
   "metadata": {},
   "outputs": [
    {
     "data": {
      "text/plain": [
       "array([2, 1, 0, 1, 2])"
      ]
     },
     "execution_count": 9,
     "metadata": {},
     "output_type": "execute_result"
    }
   ],
   "source": [
    "x = np.array([-2, -1, 0, 1, 2])\n",
    "abs(x)"
   ]
  },
  {
   "cell_type": "markdown",
   "metadata": {},
   "source": [
    "对应的NumPy 通用函数是np.absolute，该函数也可以用别名np.abs 来访问："
   ]
  },
  {
   "cell_type": "code",
   "execution_count": 10,
   "metadata": {},
   "outputs": [
    {
     "data": {
      "text/plain": [
       "array([2, 1, 0, 1, 2])"
      ]
     },
     "execution_count": 10,
     "metadata": {},
     "output_type": "execute_result"
    }
   ],
   "source": [
    "np.absolute(x)"
   ]
  },
  {
   "cell_type": "code",
   "execution_count": 11,
   "metadata": {},
   "outputs": [
    {
     "data": {
      "text/plain": [
       "array([2, 1, 0, 1, 2])"
      ]
     },
     "execution_count": 11,
     "metadata": {},
     "output_type": "execute_result"
    }
   ],
   "source": [
    "np.abs(x)"
   ]
  },
  {
   "cell_type": "markdown",
   "metadata": {},
   "source": [
    "这个通用函数也可以处理复数。当处理复数时，绝对值返回的是该复数的幅度："
   ]
  },
  {
   "cell_type": "code",
   "execution_count": 12,
   "metadata": {},
   "outputs": [
    {
     "data": {
      "text/plain": [
       "array([5., 5., 2., 1.])"
      ]
     },
     "execution_count": 12,
     "metadata": {},
     "output_type": "execute_result"
    }
   ],
   "source": [
    "x = np.array([3 - 4j, 4 - 3j, 2 + 0j, 0 + 1j])\n",
    "np.abs(x)"
   ]
  },
  {
   "cell_type": "markdown",
   "metadata": {},
   "source": [
    "#### 3. 三角函数"
   ]
  },
  {
   "cell_type": "markdown",
   "metadata": {},
   "source": [
    "NumPy 提供了大量好用的通用函数，其中对于数据科学家最有用的就是三角函数。首先定\n",
    "义一个角度数组："
   ]
  },
  {
   "cell_type": "code",
   "execution_count": 13,
   "metadata": {},
   "outputs": [],
   "source": [
    "theta = np.linspace(0, np.pi, 3)"
   ]
  },
  {
   "cell_type": "markdown",
   "metadata": {},
   "source": [
    "现在可以对这些值进行一些三角函数计算："
   ]
  },
  {
   "cell_type": "code",
   "execution_count": 14,
   "metadata": {},
   "outputs": [
    {
     "name": "stdout",
     "output_type": "stream",
     "text": [
      "theta =  [0.         1.57079633 3.14159265]\n",
      "sin(theta) =  [0.0000000e+00 1.0000000e+00 1.2246468e-16]\n",
      "cos(theta) =  [ 1.000000e+00  6.123234e-17 -1.000000e+00]\n",
      "tan(theta) =  [ 0.00000000e+00  1.63312394e+16 -1.22464680e-16]\n"
     ]
    }
   ],
   "source": [
    "print(\"theta = \", theta)\n",
    "print(\"sin(theta) = \", np.sin(theta))\n",
    "print(\"cos(theta) = \", np.cos(theta))\n",
    "print(\"tan(theta) = \", np.tan(theta))"
   ]
  },
  {
   "cell_type": "markdown",
   "metadata": {},
   "source": [
    "这些值是在机器精度内计算的，所以有些应该是0 的值并没有精确到0 。逆三角函数同样\n",
    "可以使用："
   ]
  },
  {
   "cell_type": "code",
   "execution_count": 15,
   "metadata": {},
   "outputs": [
    {
     "name": "stdout",
     "output_type": "stream",
     "text": [
      "x =  [-1, 0, 1]\n",
      "arcsin(x) =  [-1.57079633  0.          1.57079633]\n",
      "arccos(x) =  [3.14159265 1.57079633 0.        ]\n",
      "arctan(x) =  [-0.78539816  0.          0.78539816]\n"
     ]
    }
   ],
   "source": [
    "x = [-1, 0, 1]\n",
    "print(\"x = \", x)\n",
    "print(\"arcsin(x) = \", np.arcsin(x))\n",
    "print(\"arccos(x) = \", np.arccos(x))\n",
    "print(\"arctan(x) = \", np.arctan(x))"
   ]
  },
  {
   "cell_type": "markdown",
   "metadata": {},
   "source": [
    "#### 4. 指数和对数\n",
    "NumPy 中另一个常用的运算通用函数是指数运算："
   ]
  },
  {
   "cell_type": "code",
   "execution_count": 16,
   "metadata": {},
   "outputs": [
    {
     "name": "stdout",
     "output_type": "stream",
     "text": [
      "x = [1, 2, 3]\n",
      "e^x = [ 2.71828183  7.3890561  20.08553692]\n",
      "2^x = [2. 4. 8.]\n",
      "3^x = [ 3  9 27]\n"
     ]
    }
   ],
   "source": [
    "x = [1, 2, 3]\n",
    "print(\"x =\", x)\n",
    "print(\"e^x =\", np.exp(x))\n",
    "print(\"2^x =\", np.exp2(x))\n",
    "print(\"3^x =\", np.power(3, x))"
   ]
  },
  {
   "cell_type": "markdown",
   "metadata": {},
   "source": [
    "指数运算的逆运算，即对数运算也是可用的。最基本的np.log 给出的是以自然数为底数的\n",
    "对数。如果你希望计算以2 为底数或者以10 为底数的对数，可以按照如下示例处理："
   ]
  },
  {
   "cell_type": "code",
   "execution_count": 17,
   "metadata": {},
   "outputs": [
    {
     "name": "stdout",
     "output_type": "stream",
     "text": [
      "x = [1, 2, 4, 10]\n",
      "ln(x) = [0.         0.69314718 1.38629436 2.30258509]\n",
      "log2(x) = [0.         1.         2.         3.32192809]\n",
      "log10(x) = [0.         0.30103    0.60205999 1.        ]\n"
     ]
    }
   ],
   "source": [
    "x = [1, 2, 4, 10]\n",
    "print(\"x =\", x)\n",
    "print(\"ln(x) =\", np.log(x))\n",
    "print(\"log2(x) =\", np.log2(x))\n",
    "print(\"log10(x) =\", np.log10(x))"
   ]
  },
  {
   "cell_type": "markdown",
   "metadata": {},
   "source": [
    "还有一些特殊的版本，对于非常小的输入值可以保持较好的精度：|"
   ]
  },
  {
   "cell_type": "code",
   "execution_count": 18,
   "metadata": {},
   "outputs": [
    {
     "name": "stdout",
     "output_type": "stream",
     "text": [
      "exp(x) - 1 = [0.         0.0010005  0.01005017 0.10517092]\n",
      "log(1 + x) = [0.         0.0009995  0.00995033 0.09531018]\n"
     ]
    }
   ],
   "source": [
    "x = [0, 0.001, 0.01, 0.1]\n",
    "print(\"exp(x) - 1 =\", np.expm1(x))\n",
    "print(\"log(1 + x) =\", np.log1p(x))"
   ]
  },
  {
   "cell_type": "markdown",
   "metadata": {},
   "source": [
    "当x 的值很小时，以上函数给出的值比np.log 和np.exp 的计算更精确。"
   ]
  },
  {
   "cell_type": "markdown",
   "metadata": {},
   "source": [
    "#### 5. 专用的通用函数\n",
    "除了以上介绍到的，NumPy 还提供了很多通用函数，包括双曲三角函数、比特位运算、比\n",
    "较运算符、弧度转化为角度的运算、取整和求余运算，等等。浏览NumPy 的文档将会揭\n",
    "示很多有趣的功能。\n",
    "还有一个更加专用，也更加晦涩的通用函数优异来源是子模块scipy.special。如果你希\n",
    "望对你的数据进行一些更晦涩的数学计算，scipy.special 可能包含了你需要的计算函数。"
   ]
  },
  {
   "cell_type": "markdown",
   "metadata": {},
   "source": [
    "## 高级的通用函数特性"
   ]
  },
  {
   "cell_type": "markdown",
   "metadata": {},
   "source": [
    "很多NumPy 用户在没有完全了解通用函数的特性时就开始使用它们，这里将介绍一些通\n",
    "用函数的特殊性质。"
   ]
  },
  {
   "cell_type": "markdown",
   "metadata": {},
   "source": [
    "#### 1. 指定输出"
   ]
  },
  {
   "cell_type": "markdown",
   "metadata": {},
   "source": [
    "在进行大量运算时，有时候指定一个用于存放运算结果的数组是非常有用的。不同于创建\n",
    "临时数组，你可以用这个特性将计算结果直接写入到你期望的存储位置。所有的通用函数\n",
    "都可以通过out 参数来指定计算结果的存放位置："
   ]
  },
  {
   "cell_type": "code",
   "execution_count": 19,
   "metadata": {},
   "outputs": [
    {
     "name": "stdout",
     "output_type": "stream",
     "text": [
      "[ 0. 10. 20. 30. 40.]\n"
     ]
    }
   ],
   "source": [
    "x = np.arange(5)\n",
    "y = np.empty(5)\n",
    "np.multiply(x, 10, out=y)\n",
    "print(y)"
   ]
  },
  {
   "cell_type": "markdown",
   "metadata": {},
   "source": [
    "这个特性也可以被用作数组视图，例如可以将计算结果写入指定数组的每隔一个元素的\n",
    "位置："
   ]
  },
  {
   "cell_type": "code",
   "execution_count": 20,
   "metadata": {},
   "outputs": [
    {
     "name": "stdout",
     "output_type": "stream",
     "text": [
      "[ 1.  0.  2.  0.  4.  0.  8.  0. 16.  0.]\n"
     ]
    }
   ],
   "source": [
    "y = np.zeros(10)\n",
    "np.power(2, x, out=y[::2])\n",
    "print(y)"
   ]
  },
  {
   "cell_type": "markdown",
   "metadata": {},
   "source": [
    "如果这里写的是y[::2] = 2 ** x，那么结果将是创建一个临时数组，该数组存放的是\n",
    "2 ** x 的结果，并且接下来会将这些值复制到y 数组中。对于上述例子中比较小的计\n",
    "算量来说，这两种方式的差别并不大。但是对于较大的数组，通过慎重使用out 参数\n",
    "将能够有效节约内存。"
   ]
  },
  {
   "cell_type": "markdown",
   "metadata": {},
   "source": [
    "#### 2. 聚合\n",
    "二元通用函数有些非常有趣的聚合功能，这些聚合可以直接在对象上计算。例如，如果我\n",
    "们希望用一个特定的运算reduce 一个数组，那么可以用任何通用函数的reduce 方法。一\n",
    "个reduce 方法会对给定的元素和操作重复执行，直至得到单个的结果。"
   ]
  },
  {
   "cell_type": "markdown",
   "metadata": {},
   "source": [
    "例如，对add 通用函数调用reduce 方法会返回数组中所有元素的和："
   ]
  },
  {
   "cell_type": "code",
   "execution_count": 21,
   "metadata": {},
   "outputs": [
    {
     "data": {
      "text/plain": [
       "15"
      ]
     },
     "execution_count": 21,
     "metadata": {},
     "output_type": "execute_result"
    }
   ],
   "source": [
    "x = np.arange(1, 6)\n",
    "np.add.reduce(x)"
   ]
  },
  {
   "cell_type": "markdown",
   "metadata": {},
   "source": [
    "同样，对multiply 通用函数调用reduce 方法会返回数组中所有元素的乘积："
   ]
  },
  {
   "cell_type": "code",
   "execution_count": 22,
   "metadata": {},
   "outputs": [
    {
     "data": {
      "text/plain": [
       "120"
      ]
     },
     "execution_count": 22,
     "metadata": {},
     "output_type": "execute_result"
    }
   ],
   "source": [
    "np.multiply.reduce(x)"
   ]
  },
  {
   "cell_type": "markdown",
   "metadata": {},
   "source": [
    "如果需要存储每次计算的中间结果，可以使用accumulate："
   ]
  },
  {
   "cell_type": "code",
   "execution_count": 23,
   "metadata": {},
   "outputs": [
    {
     "data": {
      "text/plain": [
       "array([ 1,  3,  6, 10, 15], dtype=int32)"
      ]
     },
     "execution_count": 23,
     "metadata": {},
     "output_type": "execute_result"
    }
   ],
   "source": [
    "np.add.accumulate(x)"
   ]
  },
  {
   "cell_type": "code",
   "execution_count": 24,
   "metadata": {},
   "outputs": [
    {
     "data": {
      "text/plain": [
       "array([  1,   2,   6,  24, 120], dtype=int32)"
      ]
     },
     "execution_count": 24,
     "metadata": {},
     "output_type": "execute_result"
    }
   ],
   "source": [
    "np.multiply.accumulate(x)"
   ]
  },
  {
   "cell_type": "markdown",
   "metadata": {},
   "source": [
    "请注意，在一些特殊情况中，NumPy 提供了专用的函数（np.sum、np.prod、np.cumsum、\n",
    "np.cumprod ） ，它们也可以实现以上reduce 的功能，这些函数下节中具体介绍。"
   ]
  },
  {
   "cell_type": "markdown",
   "metadata": {},
   "source": [
    "#### 3. 外积\n",
    "最后，任何通用函数都可以用outer 方法获得两个不同输入数组所有元素对的函数运算结\n",
    "果。这意味着你可以用一行代码实现一个乘法表："
   ]
  },
  {
   "cell_type": "code",
   "execution_count": 25,
   "metadata": {},
   "outputs": [
    {
     "data": {
      "text/plain": [
       "array([[ 1,  2,  3,  4,  5],\n",
       "       [ 2,  4,  6,  8, 10],\n",
       "       [ 3,  6,  9, 12, 15],\n",
       "       [ 4,  8, 12, 16, 20],\n",
       "       [ 5, 10, 15, 20, 25]])"
      ]
     },
     "execution_count": 25,
     "metadata": {},
     "output_type": "execute_result"
    }
   ],
   "source": [
    "x = np.arange(1, 6)\n",
    "np.multiply.outer(x, x)"
   ]
  },
  {
   "cell_type": "code",
   "execution_count": 26,
   "metadata": {},
   "outputs": [
    {
     "data": {
      "text/plain": [
       "array([ 1,  4,  9, 16, 25])"
      ]
     },
     "execution_count": 26,
     "metadata": {},
     "output_type": "execute_result"
    }
   ],
   "source": [
    "x * x"
   ]
  },
  {
   "cell_type": "markdown",
   "metadata": {},
   "source": [
    "以后将介绍非常有用的ufunc.at 和ufunc.reduceat 方法。"
   ]
  },
  {
   "cell_type": "markdown",
   "metadata": {},
   "source": [
    "通用函数另外一个非常有用的特性是它能操作不同大小和形状的数组，一组这样的操作被\n",
    "称为广播（broadcasting）。这个主题非常重要，我们将用一整节的内容介绍它。"
   ]
  },
  {
   "cell_type": "markdown",
   "metadata": {},
   "source": [
    "## 通用函数：更多的信息"
   ]
  },
  {
   "cell_type": "markdown",
   "metadata": {},
   "source": [
    "有关通用函数的更多信息（包括可用的通用函数的完整列表）可以在NumPy（http://www.\n",
    "numpy.org）和SciPy（http://www.scipy.org）文档的网站找到。"
   ]
  }
 ],
 "metadata": {
  "kernelspec": {
   "display_name": "Python 3",
   "language": "python",
   "name": "python3"
  },
  "language_info": {
   "codemirror_mode": {
    "name": "ipython",
    "version": 3
   },
   "file_extension": ".py",
   "mimetype": "text/x-python",
   "name": "python",
   "nbconvert_exporter": "python",
   "pygments_lexer": "ipython3",
   "version": "3.6.7"
  },
  "toc": {
   "base_numbering": 1,
   "nav_menu": {},
   "number_sections": true,
   "sideBar": true,
   "skip_h1_title": false,
   "title_cell": "Table of Contents",
   "title_sidebar": "Contents",
   "toc_cell": false,
   "toc_position": {},
   "toc_section_display": true,
   "toc_window_display": true
  }
 },
 "nbformat": 4,
 "nbformat_minor": 2
}
