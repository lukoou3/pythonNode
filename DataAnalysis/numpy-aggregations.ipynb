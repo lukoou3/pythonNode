{
 "cells": [
  {
   "cell_type": "markdown",
   "metadata": {},
   "source": [
    "# 聚合：最小值、最大值和其他值"
   ]
  },
  {
   "cell_type": "markdown",
   "metadata": {},
   "source": [
    "当你面对大量的数据时，第一个步骤通常都是计算相关数据的概括统计值。最常用的概括统\n",
    "计值可能是均值和标准差，这两个值能让你分别概括出数据集中的“经典”值，但是其他一\n",
    "些形式的聚合也是非常有用的（如求和、乘积、中位数、最小值和最大值、分位数，等等）。\n",
    "NumPy 有非常快速的内置聚合函数可用于数组，我们将介绍其中的一些。"
   ]
  },
  {
   "cell_type": "code",
   "execution_count": 1,
   "metadata": {},
   "outputs": [],
   "source": [
    "import numpy as np"
   ]
  },
  {
   "cell_type": "markdown",
   "metadata": {},
   "source": [
    "## 数组值求和"
   ]
  },
  {
   "cell_type": "markdown",
   "metadata": {},
   "source": [
    "先来看一个小例子，设想计算一个数组中所有元素的和。Python 本身可用内置的sum 函数\n",
    "来实现："
   ]
  },
  {
   "cell_type": "code",
   "execution_count": 2,
   "metadata": {},
   "outputs": [
    {
     "data": {
      "text/plain": [
       "55.63955337522146"
      ]
     },
     "execution_count": 2,
     "metadata": {},
     "output_type": "execute_result"
    }
   ],
   "source": [
    "L = np.random.random(100)\n",
    "sum(L)"
   ]
  },
  {
   "cell_type": "markdown",
   "metadata": {},
   "source": [
    "它的语法和NumPy 的sum 函数非常相似，并且在这个简单的例子中的结果也是一样的："
   ]
  },
  {
   "cell_type": "code",
   "execution_count": 3,
   "metadata": {},
   "outputs": [
    {
     "data": {
      "text/plain": [
       "55.63955337522145"
      ]
     },
     "execution_count": 3,
     "metadata": {},
     "output_type": "execute_result"
    }
   ],
   "source": [
    "np.sum(L)"
   ]
  },
  {
   "cell_type": "markdown",
   "metadata": {},
   "source": [
    "但是，因为NumPy 的sum 函数在编译码中执行操作，所以NumPy 的操作计算得更\n",
    "快一些："
   ]
  },
  {
   "cell_type": "code",
   "execution_count": 4,
   "metadata": {},
   "outputs": [
    {
     "name": "stdout",
     "output_type": "stream",
     "text": [
      "Wall time: 735 ms\n",
      "Wall time: 11 ms\n"
     ]
    },
    {
     "data": {
      "text/plain": [
       "4998567.816574175"
      ]
     },
     "execution_count": 4,
     "metadata": {},
     "output_type": "execute_result"
    }
   ],
   "source": [
    "big_array = np.random.rand(10**7)\n",
    "%time sum(big_array)\n",
    "%time np.sum(big_array)"
   ]
  },
  {
   "cell_type": "markdown",
   "metadata": {},
   "source": [
    "但是需要注意，sum 函数和np.sum 函数并不等同，这有时会导致混淆。尤其是它们各自\n",
    "的可选参数都有不同的含义，np.sum 函数是知道数组的维度的，这一点将在接下来的部\n",
    "分讲解。"
   ]
  },
  {
   "cell_type": "markdown",
   "metadata": {},
   "source": [
    "## 最小值和最大值"
   ]
  },
  {
   "cell_type": "markdown",
   "metadata": {},
   "source": [
    "同样，Python 也有内置的min 函数和max 函数，分别被用于获取给定数组的最小值和最\n",
    "大值："
   ]
  },
  {
   "cell_type": "code",
   "execution_count": 5,
   "metadata": {},
   "outputs": [
    {
     "data": {
      "text/plain": [
       "(1.380666065919911e-07, 0.9999999463231817)"
      ]
     },
     "execution_count": 5,
     "metadata": {},
     "output_type": "execute_result"
    }
   ],
   "source": [
    "min(big_array), max(big_array)"
   ]
  },
  {
   "cell_type": "markdown",
   "metadata": {},
   "source": [
    "NumPy 对应的函数也有类似的语法，并且也执行得更快："
   ]
  },
  {
   "cell_type": "code",
   "execution_count": 6,
   "metadata": {},
   "outputs": [
    {
     "data": {
      "text/plain": [
       "(1.380666065919911e-07, 0.9999999463231817)"
      ]
     },
     "execution_count": 6,
     "metadata": {},
     "output_type": "execute_result"
    }
   ],
   "source": [
    "np.min(big_array), np.max(big_array)"
   ]
  },
  {
   "cell_type": "code",
   "execution_count": 7,
   "metadata": {},
   "outputs": [
    {
     "name": "stdout",
     "output_type": "stream",
     "text": [
      "Wall time: 531 ms\n",
      "Wall time: 4.97 ms\n"
     ]
    },
    {
     "data": {
      "text/plain": [
       "1.380666065919911e-07"
      ]
     },
     "execution_count": 7,
     "metadata": {},
     "output_type": "execute_result"
    }
   ],
   "source": [
    "%time min(big_array)\n",
    "%time np.min(big_array)"
   ]
  },
  {
   "cell_type": "markdown",
   "metadata": {},
   "source": [
    "对于min、max、sum 和其他NumPy 聚合，一种更简洁的语法形式是数组对象直接调用这些\n",
    "方法："
   ]
  },
  {
   "cell_type": "code",
   "execution_count": 8,
   "metadata": {},
   "outputs": [
    {
     "name": "stdout",
     "output_type": "stream",
     "text": [
      "1.380666065919911e-07 0.9999999463231817 4998567.816574175\n"
     ]
    }
   ],
   "source": [
    "print(big_array.min(), big_array.max(), big_array.sum())"
   ]
  },
  {
   "cell_type": "markdown",
   "metadata": {},
   "source": [
    "当你操作NumPy 数组时，确保你执行的是NumPy 版本的聚合。"
   ]
  },
  {
   "cell_type": "markdown",
   "metadata": {},
   "source": [
    "## 多维度聚合\n",
    "一种常用的聚合操作是沿着一行或一列聚合。例如，假设你有一些数据存储在二维数组中："
   ]
  },
  {
   "cell_type": "code",
   "execution_count": 9,
   "metadata": {},
   "outputs": [
    {
     "data": {
      "text/plain": [
       "array([[0.31353431, 0.5962176 , 0.17014265, 0.31197818],\n",
       "       [0.50175677, 0.48239603, 0.57720406, 0.59137969],\n",
       "       [0.6431697 , 0.00832504, 0.3287869 , 0.6450076 ]])"
      ]
     },
     "execution_count": 9,
     "metadata": {},
     "output_type": "execute_result"
    }
   ],
   "source": [
    "M = np.random.random((3, 4))\n",
    "M"
   ]
  },
  {
   "cell_type": "markdown",
   "metadata": {},
   "source": [
    "默认情况下，每一个NumPy 聚合函数将会返回对整个数组的聚合结果："
   ]
  },
  {
   "cell_type": "code",
   "execution_count": 10,
   "metadata": {},
   "outputs": [
    {
     "data": {
      "text/plain": [
       "5.169898536146273"
      ]
     },
     "execution_count": 10,
     "metadata": {},
     "output_type": "execute_result"
    }
   ],
   "source": [
    "M.sum()"
   ]
  },
  {
   "cell_type": "markdown",
   "metadata": {},
   "source": [
    "聚合函数还有一个参数，用于指定沿着哪个轴的方向进行聚合。例如，可以通过指定\n",
    "axis=0 找到每一列的最小值："
   ]
  },
  {
   "cell_type": "code",
   "execution_count": 11,
   "metadata": {},
   "outputs": [
    {
     "data": {
      "text/plain": [
       "array([0.31353431, 0.00832504, 0.17014265, 0.31197818])"
      ]
     },
     "execution_count": 11,
     "metadata": {},
     "output_type": "execute_result"
    }
   ],
   "source": [
    "M.min(axis=0)"
   ]
  },
  {
   "cell_type": "markdown",
   "metadata": {},
   "source": [
    "这个函数返回四个值，对应四列数字的计算值。\n",
    "\n",
    "同样，也可以找到每一行的最大值："
   ]
  },
  {
   "cell_type": "code",
   "execution_count": 12,
   "metadata": {},
   "outputs": [
    {
     "data": {
      "text/plain": [
       "array([0.5962176 , 0.59137969, 0.6450076 ])"
      ]
     },
     "execution_count": 12,
     "metadata": {},
     "output_type": "execute_result"
    }
   ],
   "source": [
    "M.max(axis=1)"
   ]
  },
  {
   "cell_type": "markdown",
   "metadata": {},
   "source": [
    "其他语言的用户会对轴的指定方式比较困惑。axis 关键字指定的是数组将会被折叠的维\n",
    "度，而不是将要返回的维度。因此指定axis=0 意味着第一个轴将要被折叠——对于二维数\n",
    "组，这意味着每一列的值都将被聚合。"
   ]
  },
  {
   "cell_type": "markdown",
   "metadata": {},
   "source": [
    "## 2. 其他聚合函数\n",
    "NumPy 提供了很多其他聚合函数，但是这里不会详细地介绍它们。另外，大多数的聚合都\n",
    "有对NaN 值的安全处理策略（NaN-safe），即计算时忽略所有的缺失值，这些缺失值即特殊\n",
    "的IEEE 浮点型NaN 值。有些NaN-safe 的函数直到NumPy 1.8 版本才加进去，所以更早版本的NumPy 并不支持此功能。"
   ]
  },
  {
   "cell_type": "markdown",
   "metadata": {},
   "source": [
    "NumPy中可用的聚合函数"
   ]
  },
  {
   "cell_type": "markdown",
   "metadata": {},
   "source": [
    "\n",
    "| 函数名称      | NaN安全版本      | 描述                     |\n",
    "| ------------- | ---------------- | ------------------------ |\n",
    "| np.sum        | np.nansum        | 计算元素的和             |\n",
    "| np.prod       | np.nanprod       | 计算元素的积             |\n",
    "| np.mean       | np.nanmean       | 计算元素的平均值         |\n",
    "| np.std        | np.nanstd        | 计算元素的标准差         |\n",
    "| np.var        | np.nanvar        | 计算元素的方差           |\n",
    "| np.min        | np.nanmin        | 找出最小值               |\n",
    "| np.max        | np.nanmax        | 找出最大值               |\n",
    "| np.argmin     | np.nanargmin     | 找出最小值的索引         |\n",
    "| np.argmax     | np.nanargmax     | 找出最大值的索引         |\n",
    "| np.median     | np.nanmedian     | 计算元素的中位数         |\n",
    "| np.percentile | np.nanpercentile | 计算基于元素排序的统计值 |\n",
    "| np.any        | N/A              | 验证任何一个元素是否为真 |\n",
    "| np.all        | N/A              | 验证所有元素是否为真     |"
   ]
  },
  {
   "cell_type": "markdown",
   "metadata": {},
   "source": [
    "## 示例：美国总统的身高是多少\n",
    "用NumPy 的聚合功能来概括一组数据非常有用。这里举一个简单的例子——计算所有美\n",
    "国总统的身高。这个数据在president_heights.csv 文件中，是一个简单的用逗号分隔的标签\n",
    "和值的列表："
   ]
  },
  {
   "cell_type": "markdown",
   "metadata": {},
   "source": [
    "我们将用Pandas 包来读文件并抽取身高信息。（请注意，身高的计量单位是厘米。）第3 章\n",
    "将更全面地介绍Pandas："
   ]
  },
  {
   "cell_type": "code",
   "execution_count": 13,
   "metadata": {},
   "outputs": [
    {
     "data": {
      "text/plain": [
       "array([189, 170, 189, 163, 183, 171, 185, 168, 173, 183, 173, 173, 175,\n",
       "       178, 183, 193, 178, 173, 174, 183, 183, 168, 170, 178, 182, 180,\n",
       "       183, 178, 182, 188, 175, 179, 183, 193, 182, 183, 177, 185, 188,\n",
       "       188, 182, 185], dtype=int64)"
      ]
     },
     "execution_count": 13,
     "metadata": {},
     "output_type": "execute_result"
    }
   ],
   "source": [
    "import pandas as pd\n",
    "data = pd.read_csv(r'./data/president_heights.csv')\n",
    "heights = np.array(data['height(cm)'])\n",
    "heights"
   ]
  },
  {
   "cell_type": "markdown",
   "metadata": {},
   "source": [
    "有了这个数据数组后，就可以计算很多概括统计值了："
   ]
  },
  {
   "cell_type": "code",
   "execution_count": 14,
   "metadata": {},
   "outputs": [
    {
     "name": "stdout",
     "output_type": "stream",
     "text": [
      "Mean height:  179.73809523809524\n",
      "Standard deviation: 6.931843442745892\n",
      "Minimum height:  163\n",
      "Maximum height:  193\n"
     ]
    }
   ],
   "source": [
    "print(\"Mean height: \", heights.mean())\n",
    "print(\"Standard deviation:\", heights.std())\n",
    "print(\"Minimum height: \", heights.min())\n",
    "print(\"Maximum height: \", heights.max())"
   ]
  },
  {
   "cell_type": "markdown",
   "metadata": {},
   "source": [
    "请注意，在这个例子中，聚合操作将整个数组缩减到单个概括值，这个概括值给出了这些\n",
    "数值的分布信息。我们也可以计算分位数："
   ]
  },
  {
   "cell_type": "code",
   "execution_count": 15,
   "metadata": {},
   "outputs": [
    {
     "name": "stdout",
     "output_type": "stream",
     "text": [
      "25th percentile:  174.25\n",
      "Median:  182.0\n",
      "75th percentile:  183.0\n"
     ]
    }
   ],
   "source": [
    "print(\"25th percentile: \", np.percentile(heights, 25))\n",
    "print(\"Median: \", np.median(heights))\n",
    "print(\"75th percentile: \", np.percentile(heights, 75))"
   ]
  },
  {
   "cell_type": "markdown",
   "metadata": {},
   "source": [
    "可以看到，美国总统的身高中位数是182cm，或者说不到6 英尺。\n",
    "\n",
    "当然，有些时候将数据可视化更有用。这时可以先进行一个快速的可视化，通过Matplotlib\n",
    "用以下代码创建图："
   ]
  },
  {
   "cell_type": "code",
   "execution_count": 16,
   "metadata": {},
   "outputs": [],
   "source": [
    "import matplotlib.pyplot as plt"
   ]
  },
  {
   "cell_type": "code",
   "execution_count": 17,
   "metadata": {},
   "outputs": [
    {
     "data": {
      "image/png": "[encoded data removed]",
      "text/plain": [
       "<Figure size 432x288 with 1 Axes>"
      ]
     },
     "metadata": {
      "needs_background": "light"
     },
     "output_type": "display_data"
    }
   ],
   "source": [
    "fig, ax = plt.subplots()\n",
    "\n",
    "ax.set(xlabel='height (cm)', ylabel='number',title='Height Distribution of US Presidents')\n",
    "ax.hist(heights)\n",
    "ax.grid()"
   ]
  },
  {
   "cell_type": "markdown",
   "metadata": {},
   "source": [
    "这些聚合是探索数据分析的一些最基本片段，本书后续的章节将进行更深入的介绍。"
   ]
  }
 ],
 "metadata": {
  "kernelspec": {
   "display_name": "Python 3",
   "language": "python",
   "name": "python3"
  },
  "language_info": {
   "codemirror_mode": {
    "name": "ipython",
    "version": 3
   },
   "file_extension": ".py",
   "mimetype": "text/x-python",
   "name": "python",
   "nbconvert_exporter": "python",
   "pygments_lexer": "ipython3",
   "version": "3.6.7"
  },
  "toc": {
   "base_numbering": 1,
   "nav_menu": {},
   "number_sections": true,
   "sideBar": true,
   "skip_h1_title": false,
   "title_cell": "Table of Contents",
   "title_sidebar": "Contents",
   "toc_cell": false,
   "toc_position": {},
   "toc_section_display": true,
   "toc_window_display": true
  }
 },
 "nbformat": 4,
 "nbformat_minor": 2
}
